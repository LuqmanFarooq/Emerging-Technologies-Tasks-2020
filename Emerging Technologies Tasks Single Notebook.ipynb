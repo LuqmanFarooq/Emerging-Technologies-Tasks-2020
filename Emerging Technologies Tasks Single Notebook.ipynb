{
 "cells": [
  {
   "cell_type": "markdown",
   "metadata": {},
   "source": [
    "# Emerging Technologies Tasks 2020\n",
    "***"
   ]
  },
  {
   "cell_type": "markdown",
   "metadata": {},
   "source": [
    "## Task 1"
   ]
  },
  {
   "cell_type": "markdown",
   "metadata": {},
   "source": [
    "### Author - Muhammad Luqman - G00353385"
   ]
  },
  {
   "cell_type": "markdown",
   "metadata": {},
   "source": [
    "#### Write a Python function called sqrt2 that calculates and prints to the screen the square root of 2 to 100 decimal places."
   ]
  },
  {
   "cell_type": "markdown",
   "metadata": {},
   "source": [
    "#### initial research simple calculation of square root of a number."
   ]
  },
  {
   "cell_type": "code",
   "execution_count": 1,
   "metadata": {},
   "outputs": [],
   "source": [
    "# To Calculate the square root of any number and testing it\n",
    "def sqrt1():\n",
    "    x=5\n",
    "    y= (x**(0.5))\n",
    "    print(\"The Square of\",x,\"is\",y)"
   ]
  },
  {
   "cell_type": "code",
   "execution_count": 2,
   "metadata": {},
   "outputs": [],
   "source": [
    "# Test the function on 2.\n",
    "sqrt1()"
   ]
  },
  {
   "cell_type": "markdown",
   "metadata": {},
   "source": [
    "***"
   ]
  },
  {
   "cell_type": "code",
   "execution_count": 3,
   "metadata": {},
   "outputs": [],
   "source": [
    "def sqrt(x):\n",
    "    \"\"\"\n",
    "    A function to calculate the square root of a number x.\n",
    "    \"\"\"\n",
    "    # Initial guess for the square rootz.\n",
    "    z = x / 2\n",
    "    # Loop until we're happy with the accuracy.\n",
    "    while abs(x - (z * z)) > 0.000001:\n",
    "        # Calculate a better guess for the square root.\n",
    "        z -= (z*z - x) / (2 * z)\n",
    "    # Return the (aproximate) square root of x.\n",
    "    return (z)"
   ]
  },
  {
   "cell_type": "code",
   "execution_count": 4,
   "metadata": {},
   "outputs": [],
   "source": [
    "# Test the function on 2.\n",
    "sqrt(2)"
   ]
  },
  {
   "cell_type": "markdown",
   "metadata": {},
   "source": [
    "### Finding the square root of 2 using (2*10 ** 100) , and using integers, then and formating 2*10 ** 200 so that we are left with 101 digits after the square root).The print formatting is to split the number of multiples of 10 ** 100 (becomes the integer part) from the modulo remainder 10 ** 100 (becomes the fractional part) the latter is padded with leading zeros as required (although in this case the first digit after the decimal point is a 4, so none are needed). Obviously what we can't do is convert to a float while keeping this much precision, hence converting to an appropriately formatted string for printing."
   ]
  },
  {
   "cell_type": "code",
   "execution_count": 5,
   "metadata": {},
   "outputs": [],
   "source": [
    "x = 2 * 10 ** 200\n",
    "\n",
    "r = x\n",
    "\n",
    "def test_diffs(x, r):\n",
    "    d0 = abs(x - r**2)\n",
    "    dm = abs(x - (r-1)**2)\n",
    "    dp = abs(x - (r+1)**2)\n",
    "    minimised = d0 <= dm and d0 <= dp\n",
    "    below_min = dp < dm\n",
    "    return minimised, below_min\n",
    "\n",
    "while True:\n",
    "    oldr = r\n",
    "    r = (r + x // r) // 2\n",
    "\n",
    "    minimised, below_min = test_diffs(x, r)\n",
    "    if minimised:\n",
    "        break\n",
    "\n",
    "    if r == oldr:\n",
    "        if below_min:\n",
    "            r += 1\n",
    "        else:\n",
    "            r -= 1\n",
    "        minimised, _ = test_diffs(x, r)\n",
    "        if minimised:\n",
    "            break\n",
    "\n",
    "print(f'{r // 10**100}.{r % 10**100:0100d}')"
   ]
  },
  {
   "cell_type": "markdown",
   "metadata": {},
   "source": [
    "### Refrences\n",
    "\n",
    "https://en.wikipedia.org/wiki/Square_root_of_2\n",
    "\n",
    "https://stackoverflow.com/questions/8505385/finding-square-root-of-2-upto-more-than-100-decimal-places\n",
    "\n",
    "https://www.reddit.com/r/AskProgramming/comments/j8mwxr/how_to_get_the_square_root_of_a_number_to_100/\n",
    "\n",
    "https://en.wikipedia.org/wiki/Methods_of_computing_square_roots\n",
    "\n",
    "https://web.microsoftstream.com/video/214c8379-7c67-45b5-910d-39ec5d269223\n",
    "\n",
    "https://www.quora.com/How-do-I-write-a-program-for-finding-the-square-root-of-a-number-without-using-the-sqrt-function"
   ]
  },
  {
   "cell_type": "markdown",
   "metadata": {},
   "source": [
    "### End Of Task 1\n",
    "***"
   ]
  },
  {
   "cell_type": "markdown",
   "metadata": {},
   "source": [
    "## Task 2\n",
    "\n",
    "**The Chi-squared test for independence is a statistical hypothesis test like a t-test. It is used to analyse whether two categorical variables are independent.The Wikipedia article on the test for independance gives the table below as an example, stating the Chi-squared value based on it is approximately 24.6. The objective is to use scipy.stats and leverage the Chi-squared test for independence, to verify the given stastical values and calculate the associated p value.**\n",
    "\n",
    "| | A | B | C | D | total |\n",
    "| --- | --- | --- | --- | --- | --- |\n",
    "|White collar| 90 | 60 | 104 | 95 | 349 |\n",
    "|Blue collar| 30 | 50 | 51 | 20 | 151 |\n",
    "|No collar| 30 | 40 | 45 | 35 | 150 |\n",
    "|Total | 150 | 150 | 200 | 150 | 650 |"
   ]
  },
  {
   "cell_type": "markdown",
   "metadata": {},
   "source": [
    "### Research"
   ]
  },
  {
   "cell_type": "markdown",
   "metadata": {},
   "source": [
    "The Chi-Square Test gives a \"p\" value to helps to decide"
   ]
  },
  {
   "cell_type": "markdown",
   "metadata": {},
   "source": [
    "### Understanding \"p\" Value"
   ]
  },
  {
   "cell_type": "markdown",
   "metadata": {},
   "source": [
    "\"p\" is the probability the variables are independent."
   ]
  },
  {
   "cell_type": "markdown",
   "metadata": {},
   "source": [
    "### Example: \"Which pet do you prefer?\"\n",
    "\t  Cat\tDog\n",
    "Men\t  207\t282\n",
    "Women 231\t242\n",
    "\n",
    "P value is 0.043\n",
    "\n",
    "In this case p < 0.05, so this result is thought of as being \"significant\" meaning we think the variables are not independent.\n"
   ]
  },
  {
   "cell_type": "markdown",
   "metadata": {},
   "source": [
    "### Why p<0.05 ?\n",
    "It is just a choice Using p<0.05 is common, but we can choose p<0.01 to be even more sure that the groups behave differently, or any value really."
   ]
  },
  {
   "cell_type": "markdown",
   "metadata": {},
   "source": [
    "### Calculating P-Value\n",
    "We use the Chi-Square Test to calculate the p-value"
   ]
  },
  {
   "cell_type": "markdown",
   "metadata": {},
   "source": [
    "### Steps for doing chi-Square\n",
    "- state our hypotheses.\n",
    "- Lay the data out in a table.\n",
    "- Add up rows and columns.\n",
    "- Calculate \"Expected Value\" for each entry by multiply each row total by each column total and divide by the overall total.\n",
    "- use formula  $\\frac{(O−E)^2}{E}$  where\n",
    " O = Observed (actual) value\n",
    " E = Expected value\n",
    "- Now add up those calculated values"
   ]
  },
  {
   "cell_type": "markdown",
   "metadata": {},
   "source": [
    "#### we need a \"Degree of Freedom\"\n",
    "\n",
    "Degree of Freedom = (rows − 1) × (columns − 1)\n",
    "\n",
    "and the p-value can be calculated using the table or p-value calculator software"
   ]
  },
  {
   "cell_type": "markdown",
   "metadata": {},
   "source": [
    "#### Read the given wiki refrenced article and the use of scipy stats\n",
    "\n",
    "now i had the mathematical overview of chi-square and the understaing to addapt it to programming.\n",
    "\n",
    "Researched chi2_contingency and how to use it [2][3][4]\n",
    "\n"
   ]
  },
  {
   "cell_type": "markdown",
   "metadata": {},
   "source": [
    "#### Using scipy.stats and importing chi2_contingency to verify given values and calculate the associated p value."
   ]
  },
  {
   "cell_type": "code",
   "execution_count": 6,
   "metadata": {},
   "outputs": [],
   "source": [
    "from scipy.stats import chi2_contingency\n",
    "\n",
    "# contingency table data from task 2\n",
    "obs =[90, 60, 104 ,95],[30, 50, 51, 20],[30, 40, 45, 35]\n",
    "\n",
    "# ***chiSquaredValue = chi2***\n",
    "chiSquaredValue, p, dof, exptd = chi2_contingency(obs)"
   ]
  },
  {
   "cell_type": "markdown",
   "metadata": {},
   "source": [
    "#### Results:"
   ]
  },
  {
   "cell_type": "code",
   "execution_count": 7,
   "metadata": {},
   "outputs": [
    {
     "name": "stdout",
     "output_type": "stream",
     "text": [
      "Expected:  [[ 80.53846154  80.53846154 107.38461538  80.53846154]\n",
      " [ 34.84615385  34.84615385  46.46153846  34.84615385]\n",
      " [ 34.61538462  34.61538462  46.15384615  34.61538462]]\n"
     ]
    }
   ],
   "source": [
    "# printing the expected value array\n",
    "print(\"Expected: \",exptd)"
   ]
  },
  {
   "cell_type": "code",
   "execution_count": 8,
   "metadata": {},
   "outputs": [
    {
     "name": "stdout",
     "output_type": "stream",
     "text": [
      "chi2: 24.5712028585826\n"
     ]
    }
   ],
   "source": [
    "# Printing the Chi-Squared-Value\n",
    "print(\"chi2:\", chiSquaredValue)"
   ]
  },
  {
   "cell_type": "code",
   "execution_count": 9,
   "metadata": {},
   "outputs": [
    {
     "name": "stdout",
     "output_type": "stream",
     "text": [
      "Degree of Freedom: 6\n"
     ]
    }
   ],
   "source": [
    "# printing Degree of freedom\n",
    "print(\"Degree of Freedom:\",dof)"
   ]
  },
  {
   "cell_type": "code",
   "execution_count": 10,
   "metadata": {},
   "outputs": [
    {
     "name": "stdout",
     "output_type": "stream",
     "text": [
      "P value: 0.0004098425861096696\n"
     ]
    }
   ],
   "source": [
    "# Printing p Value\n",
    "print(\"P value:\",p)"
   ]
  },
  {
   "cell_type": "markdown",
   "metadata": {},
   "source": [
    "### Conclusion"
   ]
  },
  {
   "cell_type": "markdown",
   "metadata": {},
   "source": [
    "The Tests above performed using the Scipy library show that the wikipedia result is accurate as the chi value mathes with the value referenced in wiki"
   ]
  },
  {
   "cell_type": "markdown",
   "metadata": {},
   "source": [
    "### Refrences"
   ]
  },
  {
   "cell_type": "markdown",
   "metadata": {},
   "source": [
    "[1] https://www.mathsisfun.com/data/chi-square-test.html"
   ]
  },
  {
   "cell_type": "markdown",
   "metadata": {},
   "source": [
    "[2] https://docs.scipy.org/doc/scipy/reference/generated/scipy.stats.chi2_contingency.html"
   ]
  },
  {
   "cell_type": "markdown",
   "metadata": {},
   "source": [
    "[3] https://docs.scipy.org/doc/scipy/reference/generated/scipy.stats.chisquare.html"
   ]
  },
  {
   "cell_type": "markdown",
   "metadata": {},
   "source": [
    "[4] https://www.geeksforgeeks.org/python-pearsons-chi-square-test/"
   ]
  },
  {
   "cell_type": "markdown",
   "metadata": {},
   "source": [
    "### End Of Task 2\n",
    "***"
   ]
  },
  {
   "cell_type": "markdown",
   "metadata": {},
   "source": [
    "## Task 3\n",
    "\n",
    "**The standard deviation of an array of numbers x is calculated using numpy as np.sqrt(np.sum((x - np.mean(x))* *2)/len(x)) . However, Microsoft Excel has two different versions of the standard deviation calculation, STDEV.P and STDEV.S . The STDEV.P function performs the above calculation but in the STDEV.S calculation the division is by len(x)-1 rather than len(x) . Research these Excel functions, writing a note in a Markdown cell about the difference between them. Then use numpy to perform a simulation demonstrating that the STDEV.S calculation is a better estimate for the standard deviation of a population when performed on a sample. Note that part of this task is to figure out the terminology in the previous sentence.**"
   ]
  },
  {
   "cell_type": "markdown",
   "metadata": {},
   "source": [
    "## Research"
   ]
  },
  {
   "cell_type": "markdown",
   "metadata": {},
   "source": [
    "My understanding of the task is that we have to research the two excel functions **STDEV.P** and **STDEV.S** , their use , how they work and whats the difference in both and then use **numpy** to simulate demonstrating that the STDEV.S calculation is a better estimate for the standard deviation of a population when performed on a sample."
   ]
  },
  {
   "cell_type": "markdown",
   "metadata": {},
   "source": [
    "### What is STDEV.P?\n",
    "\n",
    "STDEV.P [1] is a function that calculates standard deviation based on the entire population given as arguments."
   ]
  },
  {
   "cell_type": "markdown",
   "metadata": {},
   "source": [
    "### What is STDEV.S?\n",
    "\n",
    "STDEV.S [2] is a function that estimates standard deviation based on a sample (ignores logical values and text in the sample)."
   ]
  },
  {
   "cell_type": "markdown",
   "metadata": {},
   "source": [
    "### What is Standard Deviation ?\n",
    "\n",
    "The standard deviation [1] is a measure of how widely values are dispersed from the average value (the mean)"
   ]
  },
  {
   "cell_type": "markdown",
   "metadata": {},
   "source": [
    "### Use of STDEV.P\n",
    "\n",
    "**Syntax** [1]\n",
    "STDEV.P(number1,number2,...)\n",
    "\n",
    "**Number1** is Required. The first number argument corresponding to a population.\n",
    "\n",
    "**Number2** and onwards are Optional. Number arguments 2 to 255 corresponding to a population. You can also use a single array or a reference to an array instead of arguments separated by commas.\n",
    "\n",
    "**Formula for python** \n",
    "np.sqrt(np.sum((x - np.mean(x))* *2)/len(x))"
   ]
  },
  {
   "cell_type": "markdown",
   "metadata": {},
   "source": [
    "### Use of STDEV.S\n",
    "\n",
    "**Syntax** [2]\n",
    "STDEV.S(number1,number2,...)\n",
    "\n",
    "**Number1** is Required. The first number argument corresponding to a sample of a population. You can also use a single array or a reference to an array instead of arguments separated by commas.\n",
    "\n",
    "**Number2** and onwards are Optional. Number arguments 2 to 254 corresponding to a sample of a population. You can also use a single array or a reference to an array instead of arguments separated by commas.\n",
    "\n",
    "**Formula for python** \n",
    "np.sqrt(np.sum((x - np.mean(x))* *2)/len(x)-1)"
   ]
  },
  {
   "cell_type": "markdown",
   "metadata": {},
   "source": [
    "### Difference Between STDEV.P and STDEV.S\n",
    "\n",
    "**STDEV.P** assumes that its arguments are the **entire population**.If your data represents the entire population, then compute the standard deviation using STDEV.P [1]\n",
    "\n",
    "**STDEV.S** assumes that its arguments are a **sample of the population**.If your data represents a sample of the population, then compute the standard deviation using STDEV.S [2]\n"
   ]
  },
  {
   "cell_type": "markdown",
   "metadata": {},
   "source": [
    "### Population Vs Sample \n",
    "\n",
    "**Population** means you are considering the entire data set. [4]\n",
    "\n",
    "**Sample** means it is very difficult to use the entire data, and you are taking only the sample of the data set. [4]\n",
    "***"
   ]
  },
  {
   "cell_type": "markdown",
   "metadata": {},
   "source": [
    "## Python Code \n",
    "#### demonstrating that the STDEV.S calculation is a better estimate for the standard deviation of a population when performed on a sample."
   ]
  },
  {
   "cell_type": "code",
   "execution_count": 11,
   "metadata": {},
   "outputs": [],
   "source": [
    "import numpy as np\n",
    "# following is a subset of an array\n",
    "x = np.array([9,2,5,4,12])"
   ]
  },
  {
   "cell_type": "code",
   "execution_count": 12,
   "metadata": {},
   "outputs": [],
   "source": [
    "resultP = np.sqrt(np.sum((x - np.mean(x))**2)/len(x))"
   ]
  },
  {
   "cell_type": "code",
   "execution_count": 13,
   "metadata": {},
   "outputs": [],
   "source": [
    "resultS = np.sqrt(np.sum((x - np.mean(x))**2)/(len(x)-1))"
   ]
  },
  {
   "cell_type": "code",
   "execution_count": 14,
   "metadata": {},
   "outputs": [
    {
     "name": "stdout",
     "output_type": "stream",
     "text": [
      "The Result of STDEV.P is 3.6110940170535577\n"
     ]
    }
   ],
   "source": [
    "print(\"The Result of STDEV.P is\",resultP)"
   ]
  },
  {
   "cell_type": "code",
   "execution_count": 15,
   "metadata": {},
   "outputs": [
    {
     "name": "stdout",
     "output_type": "stream",
     "text": [
      "The Result of STDEV.S is 4.03732584763727\n"
     ]
    }
   ],
   "source": [
    "print(\"The Result of STDEV.S is\",resultS)"
   ]
  },
  {
   "cell_type": "code",
   "execution_count": 16,
   "metadata": {},
   "outputs": [],
   "source": [
    "meanX = np.mean(x)"
   ]
  },
  {
   "cell_type": "code",
   "execution_count": 17,
   "metadata": {},
   "outputs": [
    {
     "name": "stdout",
     "output_type": "stream",
     "text": [
      "The Result of mean of x is 6.4\n"
     ]
    }
   ],
   "source": [
    "print(\"The Result of mean of x is\",meanX)"
   ]
  },
  {
   "cell_type": "markdown",
   "metadata": {},
   "source": [
    "#### By comparing the STDEV.P and STDEV.S values to the MEAN we can conclude than as STDEV.S value is closer to the Mean so STDEV.S"
   ]
  },
  {
   "cell_type": "markdown",
   "metadata": {},
   "source": [
    "####  calculation is a better estimate for the standard deviation of a population when performed on a sample."
   ]
  },
  {
   "cell_type": "markdown",
   "metadata": {},
   "source": [
    "## References\n",
    "\n",
    "[1] https://support.microsoft.com/en-ie/office/stdevp-function-1f7c1c88-1bec-4422-8242-e9f7dc8bb195\n",
    "\n",
    "[2] https://support.microsoft.com/en-us/office/stdev-s-function-7d69cf97-0c1f-4acf-be27-f3e83904cc23\n",
    "\n",
    "[3] https://www.experts-exchange.com/questions/28117550/Understanding-Statistics-Difference-between-STDEV-P-and-STDEV-S-in-Excel-maybe-lotus-too.html\n",
    "\n",
    "[4] https://www.wallstreetmojo.com/standard-deviation-in-excel/\n",
    "\n",
    "[5] https://stackoverflow.com/questions/34133939/is-there-any-difference-between-numpy-std-and-excel-stdev-function"
   ]
  },
  {
   "cell_type": "markdown",
   "metadata": {},
   "source": [
    "### End Of Task 3\n",
    "***"
   ]
  },
  {
   "cell_type": "markdown",
   "metadata": {},
   "source": [
    "## Task 4\n",
    "***"
   ]
  },
  {
   "cell_type": "markdown",
   "metadata": {},
   "source": [
    "**Use scikit-learn to apply k-means clustering to\n",
    "Fisher’s famous Iris data set. You will easily obtain a copy of the data set online. Explain in a Markdown cell how your code works and how accurate it might\n",
    "be, and then explain how your model could be used to make predictions of species\n",
    "of iris.**"
   ]
  },
  {
   "cell_type": "markdown",
   "metadata": {},
   "source": [
    "### Scikit-learn"
   ]
  },
  {
   "cell_type": "markdown",
   "metadata": {},
   "source": [
    "Scikit-learn [1] (formerly scikits.learn and also known as sklearn) is a free software machine learning library for the Python programming language.It features various classification, regression and clustering algorithms including support vector machines, random forests, gradient boosting, k-means and DBSCAN, and is designed to interoperate with the Python numerical and scientific libraries NumPy and SciPy."
   ]
  },
  {
   "cell_type": "markdown",
   "metadata": {},
   "source": [
    "## References"
   ]
  },
  {
   "cell_type": "markdown",
   "metadata": {},
   "source": [
    "[1] https://en.wikipedia.org/wiki/Scikit-learn"
   ]
  },
  {
   "cell_type": "code",
   "execution_count": null,
   "metadata": {},
   "outputs": [],
   "source": []
  }
 ],
 "metadata": {
  "kernelspec": {
   "display_name": "Python 3",
   "language": "python",
   "name": "python3"
  },
  "language_info": {
   "codemirror_mode": {
    "name": "ipython",
    "version": 3
   },
   "file_extension": ".py",
   "mimetype": "text/x-python",
   "name": "python",
   "nbconvert_exporter": "python",
   "pygments_lexer": "ipython3",
   "version": "3.8.3"
  }
 },
 "nbformat": 4,
 "nbformat_minor": 4
}
