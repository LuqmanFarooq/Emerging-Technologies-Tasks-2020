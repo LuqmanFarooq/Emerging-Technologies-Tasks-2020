{
 "cells": [
  {
   "cell_type": "markdown",
   "metadata": {},
   "source": [
    "# Emerging Technologies Tasks 2020\n",
    "***"
   ]
  },
  {
   "cell_type": "markdown",
   "metadata": {},
   "source": [
    "### Author - Muhammad Luqman - G00353385"
   ]
  },
  {
   "cell_type": "markdown",
   "metadata": {},
   "source": [
    "## Task 2\n",
    "\n",
    "The standard deviation of an array of numbers x is calculated using numpy as np.sqrt(np.sum((x - np.mean(x))* *2)/len(x)) . However, Microsoft Excel has two different versions of the standard deviation calculation, STDEV.P and STDEV.S . The STDEV.P function performs the above calculation but in the STDEV.S calculation the division is by len(x)-1 rather than len(x) . Research these Excel functions, writing a note in a Markdown cell about the difference between them. Then use numpy to perform a simulation demonstrating that the STDEV.S calculation is a better estimate for the standard deviation of a population when performed on a sample. Note that part of this task is to figure out the terminology in the previous sentence."
   ]
  },
  {
   "cell_type": "markdown",
   "metadata": {},
   "source": [
    "## Research"
   ]
  },
  {
   "cell_type": "markdown",
   "metadata": {},
   "source": [
    "My understanding of the task is that we have to research the two excel functions **STDEV.P** and **STDEV.S** , their use , how they work and whats the difference in both and then use **numpy** to simulate demonstrating that the STDEV.S calculation is a better estimate for the standard deviation of a population when performed on a sample."
   ]
  },
  {
   "cell_type": "markdown",
   "metadata": {},
   "source": [
    "### What is STDEV.P?\n",
    "\n",
    "STDEV.P [1] is a function that calculates standard deviation based on the entire population given as arguments."
   ]
  },
  {
   "cell_type": "markdown",
   "metadata": {},
   "source": [
    "### What is STDEV.S?\n",
    "\n",
    "STDEV.S [2] is a function that estimates standard deviation based on a sample (ignores logical values and text in the sample)."
   ]
  },
  {
   "cell_type": "markdown",
   "metadata": {},
   "source": [
    "### What is Standard Deviation ?\n",
    "\n",
    "The standard deviation [1] is a measure of how widely values are dispersed from the average value (the mean)"
   ]
  },
  {
   "cell_type": "markdown",
   "metadata": {},
   "source": [
    "### Use of STDEV.P\n",
    "\n",
    "**Syntax** [1]\n",
    "STDEV.P(number1,number2,...)\n",
    "\n",
    "**Number1** is Required. The first number argument corresponding to a population.\n",
    "\n",
    "**Number2** and onwards are Optional. Number arguments 2 to 255 corresponding to a population. You can also use a single array or a reference to an array instead of arguments separated by commas.\n",
    "\n",
    "**Formula for python** \n",
    "np.sqrt(np.sum((x - np.mean(x))* *2)/len(x))"
   ]
  },
  {
   "cell_type": "markdown",
   "metadata": {},
   "source": [
    "### Use of STDEV.S\n",
    "\n",
    "**Syntax** [2]\n",
    "STDEV.S(number1,number2,...)\n",
    "\n",
    "**Number1** is Required. The first number argument corresponding to a sample of a population. You can also use a single array or a reference to an array instead of arguments separated by commas.\n",
    "\n",
    "**Number2** and onwards are Optional. Number arguments 2 to 254 corresponding to a sample of a population. You can also use a single array or a reference to an array instead of arguments separated by commas.\n",
    "\n",
    "**Formula for python** \n",
    "np.sqrt(np.sum((x - np.mean(x))* *2)/len(x)-1)"
   ]
  },
  {
   "cell_type": "markdown",
   "metadata": {},
   "source": [
    "### Difference Between STDEV.P and STDEV.S\n",
    "\n",
    "**STDEV.P** assumes that its arguments are the **entire population**.If your data represents the entire population, then compute the standard deviation using STDEV.P [1]\n",
    "\n",
    "**STDEV.S** assumes that its arguments are a **sample of the population**.If your data represents a sample of the population, then compute the standard deviation using STDEV.S [2]\n"
   ]
  },
  {
   "cell_type": "markdown",
   "metadata": {},
   "source": [
    "### Population Vs Sample \n",
    "\n",
    "**Population** means you are considering the entire data set. [4]\n",
    "\n",
    "**Sample** means it is very difficult to use the entire data, and you are taking only the sample of the data set. [4]\n",
    "***"
   ]
  },
  {
   "cell_type": "markdown",
   "metadata": {},
   "source": [
    "## Python Code \n",
    "#### demonstrating that the STDEV.S calculation is a better estimate for the standard deviation of a population when performed on a sample."
   ]
  },
  {
   "cell_type": "code",
   "execution_count": 1,
   "metadata": {},
   "outputs": [],
   "source": [
    "import numpy as np\n",
    "\n",
    "x = np.array([9,2,5,4,12])"
   ]
  },
  {
   "cell_type": "code",
   "execution_count": 2,
   "metadata": {},
   "outputs": [],
   "source": [
    "resultP = np.sqrt(np.sum((x - np.mean(x))**2)/len(x))"
   ]
  },
  {
   "cell_type": "code",
   "execution_count": 3,
   "metadata": {},
   "outputs": [],
   "source": [
    "resultS = np.sqrt(np.sum((x - np.mean(x))**2)/(len(x)-1))"
   ]
  },
  {
   "cell_type": "code",
   "execution_count": 4,
   "metadata": {},
   "outputs": [
    {
     "name": "stdout",
     "output_type": "stream",
     "text": [
      "The Result of STDEV.P is 3.6110940170535577\n"
     ]
    }
   ],
   "source": [
    "print(\"The Result of STDEV.P is\",resultP)"
   ]
  },
  {
   "cell_type": "code",
   "execution_count": 5,
   "metadata": {},
   "outputs": [
    {
     "name": "stdout",
     "output_type": "stream",
     "text": [
      "The Result of STDEV.S is 4.03732584763727\n"
     ]
    }
   ],
   "source": [
    "print(\"The Result of STDEV.S is\",resultS)"
   ]
  },
  {
   "cell_type": "markdown",
   "metadata": {},
   "source": [
    "## References\n",
    "\n",
    "[1] https://support.microsoft.com/en-ie/office/stdevp-function-1f7c1c88-1bec-4422-8242-e9f7dc8bb195\n",
    "\n",
    "[2] https://support.microsoft.com/en-us/office/stdev-s-function-7d69cf97-0c1f-4acf-be27-f3e83904cc23\n",
    "\n",
    "[3] https://www.experts-exchange.com/questions/28117550/Understanding-Statistics-Difference-between-STDEV-P-and-STDEV-S-in-Excel-maybe-lotus-too.html\n",
    "\n",
    "[4] https://www.wallstreetmojo.com/standard-deviation-in-excel/\n",
    "\n",
    "[5] https://stackoverflow.com/questions/34133939/is-there-any-difference-between-numpy-std-and-excel-stdev-function"
   ]
  },
  {
   "cell_type": "code",
   "execution_count": null,
   "metadata": {},
   "outputs": [],
   "source": []
  }
 ],
 "metadata": {
  "kernelspec": {
   "display_name": "Python 3",
   "language": "python",
   "name": "python3"
  },
  "language_info": {
   "codemirror_mode": {
    "name": "ipython",
    "version": 3
   },
   "file_extension": ".py",
   "mimetype": "text/x-python",
   "name": "python",
   "nbconvert_exporter": "python",
   "pygments_lexer": "ipython3",
   "version": "3.8.3"
  }
 },
 "nbformat": 4,
 "nbformat_minor": 4
}
