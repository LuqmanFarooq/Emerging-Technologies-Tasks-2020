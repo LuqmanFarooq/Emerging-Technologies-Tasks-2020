{
 "cells": [
  {
   "cell_type": "markdown",
   "metadata": {},
   "source": [
    "# Emerging Technologies Tasks 2020\n",
    "***"
   ]
  },
  {
   "cell_type": "markdown",
   "metadata": {},
   "source": [
    "### Author - Muhammad Luqman - G00353385"
   ]
  },
  {
   "cell_type": "markdown",
   "metadata": {},
   "source": [
    "## Task 2\n",
    "\n",
    "The Chi-squared test for independence is a statistical hypothesis test like a t-test. It is used to analyse whether two categorical variables are independent.The Wikipedia article on the test for independance gives the table below as an example, stating the Chi-squared value based on it is approximately 24.6. The objective is to use scipy.stats and leverage the Chi-squared test for independence, to verify the given stastical values and calculate the associated p value. \n",
    "\n",
    "| | A | B | C | D | total |\n",
    "| --- | --- | --- | --- | --- | --- |\n",
    "|White collar| 90 | 60 | 104 | 95 | 349 |\n",
    "|Blue collar| 30 | 50 | 51 | 20 | 151 |\n",
    "|No collar| 30 | 40 | 45 | 35 | 150 |\n",
    "|Total | 150 | 150 | 200 | 150 | 650 |"
   ]
  },
  {
   "cell_type": "markdown",
   "metadata": {},
   "source": [
    "### Research"
   ]
  },
  {
   "cell_type": "markdown",
   "metadata": {},
   "source": [
    "The Chi-Square Test gives a \"p\" value to helps to decide"
   ]
  },
  {
   "cell_type": "markdown",
   "metadata": {},
   "source": [
    "### Understanding \"p\" Value"
   ]
  },
  {
   "cell_type": "markdown",
   "metadata": {},
   "source": [
    "\"p\" is the probability the variables are independent."
   ]
  },
  {
   "cell_type": "markdown",
   "metadata": {},
   "source": [
    "### Example: \"Which pet do you prefer?\"\n",
    "\t  Cat\tDog\n",
    "Men\t  207\t282\n",
    "Women 231\t242\n",
    "\n",
    "P value is 0.043\n",
    "\n",
    "In this case p < 0.05, so this result is thought of as being \"significant\" meaning we think the variables are not independent.\n"
   ]
  },
  {
   "cell_type": "markdown",
   "metadata": {},
   "source": [
    "### Why p<0.05 ?\n",
    "It is just a choice Using p<0.05 is common, but we can choose p<0.01 to be even more sure that the groups behave differently, or any value really."
   ]
  },
  {
   "cell_type": "markdown",
   "metadata": {},
   "source": [
    "### Calculating P-Value\n",
    "We use the Chi-Square Test to calculate the p-value"
   ]
  },
  {
   "cell_type": "markdown",
   "metadata": {},
   "source": [
    "### Steps for doing chi-Square\n",
    "- state our hypotheses.\n",
    "- Lay the data out in a table.\n",
    "- Add up rows and columns.\n",
    "- Calculate \"Expected Value\" for each entry by multiply each row total by each column total and divide by the overall total.\n",
    "- use formula  $\\frac{(O−E)^2}{E}$  where\n",
    " O = Observed (actual) value\n",
    " E = Expected value\n",
    "- Now add up those calculated values"
   ]
  },
  {
   "cell_type": "markdown",
   "metadata": {},
   "source": [
    "#### we need a \"Degree of Freedom\"\n",
    "\n",
    "Degree of Freedom = (rows − 1) × (columns − 1)\n",
    "\n",
    "and the p-value can be calculated using the table or p-value calculator software"
   ]
  },
  {
   "cell_type": "markdown",
   "metadata": {},
   "source": [
    "#### Read the given wiki refrenced article and the use of scipy stats\n",
    "\n",
    "now i had the mathematical overview of chi-square and the understaing to addapt it to programming.\n",
    "\n",
    "Researched chi2_contingency and how to use it [2][3][4]\n",
    "\n"
   ]
  },
  {
   "cell_type": "markdown",
   "metadata": {},
   "source": [
    "#### Using scipy.stats and importing chi2_contingency to verify given values and calculate the associated p value."
   ]
  },
  {
   "cell_type": "code",
   "execution_count": 1,
   "metadata": {},
   "outputs": [],
   "source": [
    "from scipy.stats import chi2_contingency\n",
    "\n",
    "# contingency table data from task 2\n",
    "obs =[90, 60, 104 ,95],[30, 50, 51, 20],[30, 40, 45, 35]\n",
    "\n",
    "# ***chiSquaredValue = chi2***\n",
    "chiSquaredValue, p, dof, exptd = chi2_contingency(obs)"
   ]
  },
  {
   "cell_type": "markdown",
   "metadata": {},
   "source": [
    "#### Results:"
   ]
  },
  {
   "cell_type": "code",
   "execution_count": 2,
   "metadata": {},
   "outputs": [
    {
     "name": "stdout",
     "output_type": "stream",
     "text": [
      "Expected:  [[ 80.53846154  80.53846154 107.38461538  80.53846154]\n",
      " [ 34.84615385  34.84615385  46.46153846  34.84615385]\n",
      " [ 34.61538462  34.61538462  46.15384615  34.61538462]]\n"
     ]
    }
   ],
   "source": [
    "# printing the expected value array\n",
    "print(\"Expected: \",exptd)"
   ]
  },
  {
   "cell_type": "code",
   "execution_count": 3,
   "metadata": {},
   "outputs": [
    {
     "name": "stdout",
     "output_type": "stream",
     "text": [
      "chi2: 24.5712028585826\n"
     ]
    }
   ],
   "source": [
    "# Printing the Chi-Squared-Value\n",
    "print(\"chi2:\", chiSquaredValue)"
   ]
  },
  {
   "cell_type": "code",
   "execution_count": 4,
   "metadata": {},
   "outputs": [
    {
     "name": "stdout",
     "output_type": "stream",
     "text": [
      "Degree of Freedom: 6\n"
     ]
    }
   ],
   "source": [
    "# printing Degree of freedom\n",
    "print(\"Degree of Freedom:\",dof)"
   ]
  },
  {
   "cell_type": "code",
   "execution_count": 5,
   "metadata": {},
   "outputs": [
    {
     "name": "stdout",
     "output_type": "stream",
     "text": [
      "P value: 0.0004098425861096696\n"
     ]
    }
   ],
   "source": [
    "# Printing p Value\n",
    "print(\"P value:\",p)"
   ]
  },
  {
   "cell_type": "markdown",
   "metadata": {},
   "source": [
    "### Conclusion"
   ]
  },
  {
   "cell_type": "markdown",
   "metadata": {},
   "source": [
    "The Tests above performed using the Scipy library show that the wikipedia result is accurate as the chi value mathes with the value referenced in wiki"
   ]
  },
  {
   "cell_type": "markdown",
   "metadata": {},
   "source": [
    "### Refrences"
   ]
  },
  {
   "cell_type": "markdown",
   "metadata": {},
   "source": [
    "[1] https://www.mathsisfun.com/data/chi-square-test.html"
   ]
  },
  {
   "cell_type": "markdown",
   "metadata": {},
   "source": [
    "[2] https://docs.scipy.org/doc/scipy/reference/generated/scipy.stats.chi2_contingency.html"
   ]
  },
  {
   "cell_type": "markdown",
   "metadata": {},
   "source": [
    "[3] https://docs.scipy.org/doc/scipy/reference/generated/scipy.stats.chisquare.html"
   ]
  },
  {
   "cell_type": "markdown",
   "metadata": {},
   "source": [
    "[4] https://www.geeksforgeeks.org/python-pearsons-chi-square-test/"
   ]
  },
  {
   "cell_type": "code",
   "execution_count": null,
   "metadata": {},
   "outputs": [],
   "source": []
  }
 ],
 "metadata": {
  "kernelspec": {
   "display_name": "Python 3",
   "language": "python",
   "name": "python3"
  },
  "language_info": {
   "codemirror_mode": {
    "name": "ipython",
    "version": 3
   },
   "file_extension": ".py",
   "mimetype": "text/x-python",
   "name": "python",
   "nbconvert_exporter": "python",
   "pygments_lexer": "ipython3",
   "version": "3.8.3"
  }
 },
 "nbformat": 4,
 "nbformat_minor": 4
}
