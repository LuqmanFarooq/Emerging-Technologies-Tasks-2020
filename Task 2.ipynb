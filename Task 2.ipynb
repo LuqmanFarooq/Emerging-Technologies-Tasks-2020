{
 "cells": [
  {
   "cell_type": "markdown",
   "metadata": {},
   "source": [
    "# Emerging Technologies Tasks 2020\n",
    "***"
   ]
  },
  {
   "cell_type": "markdown",
   "metadata": {},
   "source": [
    "### Author - Muhammad Luqman - G00353385"
   ]
  },
  {
   "cell_type": "markdown",
   "metadata": {},
   "source": [
    "## Task 2\n",
    "\n",
    "The Chi-squared test for independence is a statistical hypothesis test like a t-test. It is used to analyse whether two categorical variables are independent.Use scipy.stats to verify this value and calculate the associated p value. You should include a short note with references justifying your analysis in a markdown cell."
   ]
  },
  {
   "cell_type": "markdown",
   "metadata": {},
   "source": [
    "### Research"
   ]
  },
  {
   "cell_type": "markdown",
   "metadata": {},
   "source": [
    "The Chi-Square Test gives a \"p\" value to helps to decide"
   ]
  },
  {
   "cell_type": "markdown",
   "metadata": {},
   "source": [
    "### Understanding \"p\" Value"
   ]
  },
  {
   "cell_type": "markdown",
   "metadata": {},
   "source": [
    "\"p\" is the probability the variables are independent."
   ]
  },
  {
   "cell_type": "markdown",
   "metadata": {},
   "source": [
    "### Example: \"Which pet do you prefer?\"\n",
    "\t  Cat\tDog\n",
    "Men\t  207\t282\n",
    "Women 231\t242\n",
    "\n",
    "P value is 0.043\n",
    "\n",
    "In this case p < 0.05, so this result is thought of as being \"significant\" meaning we think the variables are not independent.\n"
   ]
  },
  {
   "cell_type": "markdown",
   "metadata": {},
   "source": [
    "### Why p<0.05 ?\n",
    "It is just a choice Using p<0.05 is common, but we can choose p<0.01 to be even more sure that the groups behave differently, or any value really."
   ]
  },
  {
   "cell_type": "markdown",
   "metadata": {},
   "source": [
    "### Calculating P-Value\n",
    "We use the Chi-Square Test to calculate the p-value"
   ]
  },
  {
   "cell_type": "markdown",
   "metadata": {},
   "source": [
    "### Steps for doing chi-Square\n",
    "- state our hypotheses.\n",
    "- Lay the data out in a table.\n",
    "- Add up rows and columns.\n",
    "- Calculate \"Expected Value\" for each entry by multiply each row total by each column total and divide by the overall total.\n",
    "- use formula  $\\frac{(O−E)^2}{E}$  where\n",
    " O = Observed (actual) value\n",
    " E = Expected value\n",
    "- Now add up those calculated values"
   ]
  },
  {
   "cell_type": "markdown",
   "metadata": {},
   "source": [
    "#### we need a \"Degree of Freedom\"\n",
    "\n",
    "Degree of Freedom = (rows − 1) × (columns − 1)\n",
    "\n",
    "and the p-value can be calculated using the table or p-value calculator software"
   ]
  },
  {
   "cell_type": "markdown",
   "metadata": {},
   "source": [
    "### Refrences"
   ]
  },
  {
   "cell_type": "markdown",
   "metadata": {},
   "source": [
    "https://www.mathsisfun.com/data/chi-square-test.html"
   ]
  },
  {
   "cell_type": "code",
   "execution_count": null,
   "metadata": {},
   "outputs": [],
   "source": []
  }
 ],
 "metadata": {
  "kernelspec": {
   "display_name": "Python 3",
   "language": "python",
   "name": "python3"
  },
  "language_info": {
   "codemirror_mode": {
    "name": "ipython",
    "version": 3
   },
   "file_extension": ".py",
   "mimetype": "text/x-python",
   "name": "python",
   "nbconvert_exporter": "python",
   "pygments_lexer": "ipython3",
   "version": "3.8.3"
  }
 },
 "nbformat": 4,
 "nbformat_minor": 4
}
